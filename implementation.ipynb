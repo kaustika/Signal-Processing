{
 "cells": [
  {
   "cell_type": "code",
   "execution_count": 1,
   "metadata": {},
   "outputs": [],
   "source": [
    "import numpy as np\n",
    "import cv2 as cv\n",
    "import os\n",
    "import matplotlib as plt"
   ]
  },
  {
   "cell_type": "code",
   "execution_count": 2,
   "metadata": {},
   "outputs": [],
   "source": [
    "def FindFormat(path, fileFormat):\n",
    "    \"\"\"Recursively walks through folders and files in path looking for .<fileFormat> -formatted files\"\"\"\n",
    "    lPathes = []\n",
    "    for root, dirs, files in os.walk(path):\n",
    "        for file in files:\n",
    "            if file.endswith(fileFormat):\n",
    "                lPathes.append(os.path.join(root, file))\n",
    "    return lPathes"
   ]
  },
  {
   "cell_type": "code",
   "execution_count": 3,
   "metadata": {},
   "outputs": [],
   "source": [
    "path_YES = os.path.abspath(os.path.join(\"signals_dataset\", \"YES(fits)\"))\n",
    "path_NO = os.path.abspath(os.path.join(\"signals_dataset\", \"NO(doesn_t_fit)\"))"
   ]
  },
  {
   "cell_type": "code",
   "execution_count": 4,
   "metadata": {},
   "outputs": [],
   "source": [
    "def find_contour_proportions(filename: str) -> float:\n",
    "    image = cv.imread(filename)\n",
    "    raw_image = image.copy()\n",
    "\n",
    "    bw_image = cv.cvtColor(image, cv.COLOR_BGR2GRAY)\n",
    "    blurred_image = cv.GaussianBlur(bw_image, (3, 3), 0)\n",
    "    _, otsu_image = cv.threshold(blurred_image, 0, 255, cv.THRESH_OTSU)\n",
    "\n",
    "    kernel = np.ones((8, 8), np.uint8)\n",
    "    opened_image = cv.morphologyEx(otsu_image, cv.MORPH_OPEN, kernel)\n",
    "    closed_image = cv.morphologyEx(opened_image, cv.MORPH_CLOSE, kernel)\n",
    "\n",
    "    contours, _ = cv.findContours(closed_image, mode=cv.RETR_LIST, method=cv.CHAIN_APPROX_SIMPLE)\n",
    "    sorted_contours = sorted(contours, key=lambda x: cv.contourArea(x), reverse=True)\n",
    "    big_contours = sorted_contours[2:3]\n",
    "\n",
    "    contours_image = raw_image.copy()\n",
    "    for c in big_contours:\n",
    "        x, y, w, h = cv.boundingRect(c)\n",
    "        cv.rectangle(contours_image, (x, y), (x + w, y + h), (0, 255, 0), thickness=15)\n",
    "\n",
    "    return w / h"
   ]
  },
  {
   "cell_type": "markdown",
   "metadata": {},
   "source": [
    "Надо получить границу этим же методом. Для этого передадим в метод граничный случай."
   ]
  },
  {
   "cell_type": "code",
   "execution_count": 5,
   "metadata": {},
   "outputs": [],
   "source": [
    "threshold = find_contour_proportions('D:\\\\current_work\\\\!V KURS\\\\8_sem\\\\SIGNALS\\\\Maxi_Laba\\\\signals_dataset\\\\YES(fits)\\\\12.jpg')"
   ]
  },
  {
   "cell_type": "code",
   "execution_count": 6,
   "metadata": {},
   "outputs": [
    {
     "data": {
      "text/plain": [
       "0.5770975056689343"
      ]
     },
     "execution_count": 6,
     "metadata": {},
     "output_type": "execute_result"
    }
   ],
   "source": [
    "threshold"
   ]
  },
  {
   "cell_type": "code",
   "execution_count": 7,
   "metadata": {},
   "outputs": [
    {
     "name": "stdout",
     "output_type": "stream",
     "text": [
      "1.jpg NO\n",
      "10.jpg NO\n",
      "11.jpg NO\n",
      "12.jpg YES\n",
      "13.jpg YES\n",
      "14.jpg YES\n",
      "15.jpg YES\n",
      "2.jpg NO\n",
      "3.jpg NO\n",
      "4.jpg NO\n",
      "5.jpg YES\n",
      "6.jpg NO\n",
      "7.jpg YES\n",
      "8.jpg NO\n",
      "9.jpg YES\n",
      "1.jpg NO\n",
      "10.jpg NO\n",
      "11.jpg NO\n",
      "12.jpg NO\n",
      "13.jpg YES\n",
      "14.jpg YES\n",
      "15.jpg NO\n",
      "2.jpg NO\n",
      "3.jpg NO\n",
      "4.jpg NO\n",
      "5.jpg YES\n",
      "6.jpg NO\n",
      "7.jpg NO\n",
      "8.jpg NO\n",
      "9.jpg NO\n",
      "0.6333333333333333\n"
     ]
    }
   ],
   "source": [
    "filenames = FindFormat(path_YES, \".jpg\")\n",
    "true = 0\n",
    "false = 0\n",
    "for filename in filenames:\n",
    "    ratio = find_contour_proportions(filename)\n",
    "    if ratio <= threshold:\n",
    "        print(os.path.basename(filename), \"YES\")\n",
    "        true += 1\n",
    "    else:\n",
    "        print(os.path.basename(filename), \"NO\")\n",
    "        false += 1\n",
    "        \n",
    "filenames = FindFormat(path_NO, \".jpg\")\n",
    "for filename in filenames:\n",
    "    ratio = find_contour_proportions(filename)\n",
    "    if ratio > threshold:\n",
    "        print(os.path.basename(filename), \"NO\")\n",
    "        true += 1\n",
    "    else:\n",
    "        print(os.path.basename(filename), \"YES\")\n",
    "        false += 1\n",
    "print(true/(true + false))"
   ]
  }
 ],
 "metadata": {
  "kernelspec": {
   "display_name": "Python 3",
   "language": "python",
   "name": "python3"
  },
  "language_info": {
   "codemirror_mode": {
    "name": "ipython",
    "version": 3
   },
   "file_extension": ".py",
   "mimetype": "text/x-python",
   "name": "python",
   "nbconvert_exporter": "python",
   "pygments_lexer": "ipython3",
   "version": "3.7.6"
  }
 },
 "nbformat": 4,
 "nbformat_minor": 4
}
